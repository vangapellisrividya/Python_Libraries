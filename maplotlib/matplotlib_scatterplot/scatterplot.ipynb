{
 "cells": [
  {
   "cell_type": "code",
   "execution_count": null,
   "metadata": {},
   "outputs": [],
   "source": [
    "'''\n",
    "    Created on Dec 7, 2021\n",
    "\n",
    "    @author:srividya\n",
    "    @Date:  7/12/2021\n",
    "    @Title: Scatterplot\n",
    "\n",
    "'''\n",
    "\n",
    "import matplotlib.pyplot as plt\n",
    "from pylab import randn\n",
    "X = randn(200)\n",
    "Y = randn(200)\n",
    "plt.scatter(X,Y, color='r')\n",
    "plt.xlabel(\"X\")\n",
    "plt.ylabel(\"Y\")\n",
    "plt.show()\n"
   ]
  }
 ],
 "metadata": {
  "language_info": {
   "name": "python"
  },
  "orig_nbformat": 4
 },
 "nbformat": 4,
 "nbformat_minor": 2
}
