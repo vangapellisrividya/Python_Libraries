{
 "cells": [
  {
   "cell_type": "code",
   "execution_count": null,
   "metadata": {},
   "outputs": [],
   "source": [
    "import plotly.express as px\n",
    "import numpy as np \n",
    "    \n",
    "  \n",
    "# creating random data through randomint \n",
    "# function of numpy.random \n",
    "np.random.seed(42) \n",
    "    \n",
    "random_x= np.random.randint(1,101,100) \n",
    "random_y= np.random.randint(1,101,100) \n",
    "    \n",
    "plot = px.scatter(random_x, random_y)\n",
    "plot.show()"
   ]
  }
 ],
 "metadata": {
  "interpreter": {
   "hash": "f7253e85e9f93d0736148ebce53ed0a9fb224f34b7e8c55fb399d4b8ec3efaae"
  },
  "kernelspec": {
   "display_name": "Python 3.10.0 64-bit",
   "language": "python",
   "name": "python3"
  },
  "language_info": {
   "codemirror_mode": {
    "name": "ipython",
    "version": 3
   },
   "file_extension": ".py",
   "mimetype": "text/x-python",
   "name": "python",
   "nbconvert_exporter": "python",
   "pygments_lexer": "ipython3",
   "version": "3.10.0"
  },
  "orig_nbformat": 4
 },
 "nbformat": 4,
 "nbformat_minor": 2
}
