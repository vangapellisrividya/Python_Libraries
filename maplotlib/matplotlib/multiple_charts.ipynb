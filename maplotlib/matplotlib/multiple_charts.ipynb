{
 "cells": [
  {
   "cell_type": "code",
   "execution_count": 1,
   "metadata": {},
   "outputs": [
    {
     "data": {
      "image/png": "[encoded data removed]",
      "text/plain": [
       "<Figure size 432x288 with 1 Axes>"
      ]
     },
     "metadata": {
      "needs_background": "light"
     },
     "output_type": "display_data"
    }
   ],
   "source": [
    "'''\n",
    "    Created on Dec 5, 2021\n",
    "\n",
    "    @author:srividya\n",
    "    @Date:  5/12/2021\n",
    "    @Title: multiple charts\n",
    "\n",
    "    '''\n",
    "\n",
    "import datetime as DT\n",
    "from matplotlib import pyplot as plt\n",
    "from matplotlib.dates import date2num\n",
    "\n",
    "data = [(DT.datetime.strptime('2016-10-03', \"%Y-%m-%d\"), 772.559998),\n",
    "        (DT.datetime.strptime('2016-10-04', \"%Y-%m-%d\"), 776.429993),\n",
    "        (DT.datetime.strptime('2016-10-05', \"%Y-%m-%d\"), 776.469971),\n",
    "        (DT.datetime.strptime('2016-10-06', \"%Y-%m-%d\"), 776.859985),\n",
    "        (DT.datetime.strptime('2016-10-07', \"%Y-%m-%d\"), 775.080017 )]\n",
    "\n",
    "x = [date2num(date) for (date, value) in data]\n",
    "y = [value for (date, value) in data]\n",
    "\n",
    "fig = plt.figure()\n",
    "\n",
    "graph = fig.add_subplot(111)\n",
    "\n",
    "# Plot the data as a red line with round markers\n",
    "graph.plot(x,y,'r-o')\n",
    "\n",
    "# Set the xtick locations\n",
    "graph.set_xticks(x)\n",
    "\n",
    "# Set the xtick labels\n",
    "graph.set_xticklabels(\n",
    "        [date.strftime(\"%Y-%m-%d\") for (date, value) in data]\n",
    "        )\n",
    "plt.show()\n"
   ]
  }
 ],
 "metadata": {
  "interpreter": {
   "hash": "f7253e85e9f93d0736148ebce53ed0a9fb224f34b7e8c55fb399d4b8ec3efaae"
  },
  "kernelspec": {
   "display_name": "Python 3.10.0 64-bit",
   "language": "python",
   "name": "python3"
  },
  "language_info": {
   "codemirror_mode": {
    "name": "ipython",
    "version": 3
   },
   "file_extension": ".py",
   "mimetype": "text/x-python",
   "name": "python",
   "nbconvert_exporter": "python",
   "pygments_lexer": "ipython3",
   "version": "3.10.0"
  },
  "orig_nbformat": 4
 },
 "nbformat": 4,
 "nbformat_minor": 2
}
