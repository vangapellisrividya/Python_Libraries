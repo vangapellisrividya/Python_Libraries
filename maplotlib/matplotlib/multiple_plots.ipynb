{
 "cells": [
  {
   "cell_type": "code",
   "execution_count": 1,
   "metadata": {},
   "outputs": [
    {
     "data": {
      "image/png": "[encoded data removed]",
      "text/plain": [
       "<Figure size 432x288 with 4 Axes>"
      ]
     },
     "metadata": {},
     "output_type": "display_data"
    }
   ],
   "source": [
    "'''\n",
    "    Created on Dec 5, 2021\n",
    "\n",
    "    @author:srividya\n",
    "    @Date:  5/12/2021\n",
    "    @Title: Multiple plots\n",
    "\n",
    "    '''\n",
    "\n",
    "import matplotlib.pyplot as plt\n",
    "fig = plt.figure()\n",
    "fig.subplots_adjust(bottom=0.020, left=0.020, top = 0.900, right=0.800)\n",
    "\n",
    "plt.subplot(2, 1, 1)\n",
    "plt.xticks(()), plt.yticks(())\n",
    "\n",
    "plt.subplot(2, 3, 4)\n",
    "plt.xticks(())\n",
    "plt.yticks(())\n",
    "\n",
    "plt.subplot(2, 3, 5)\n",
    "plt.xticks(())\n",
    "plt.yticks(())\n",
    "\n",
    "plt.subplot(2, 3, 6)\n",
    "plt.xticks(())\n",
    "plt.yticks(())\n",
    "\n",
    "plt.show()\n"
   ]
  }
 ],
 "metadata": {
  "interpreter": {
   "hash": "f7253e85e9f93d0736148ebce53ed0a9fb224f34b7e8c55fb399d4b8ec3efaae"
  },
  "kernelspec": {
   "display_name": "Python 3.10.0 64-bit",
   "language": "python",
   "name": "python3"
  },
  "language_info": {
   "codemirror_mode": {
    "name": "ipython",
    "version": 3
   },
   "file_extension": ".py",
   "mimetype": "text/x-python",
   "name": "python",
   "nbconvert_exporter": "python",
   "pygments_lexer": "ipython3",
   "version": "3.10.0"
  },
  "orig_nbformat": 4
 },
 "nbformat": 4,
 "nbformat_minor": 2
}
