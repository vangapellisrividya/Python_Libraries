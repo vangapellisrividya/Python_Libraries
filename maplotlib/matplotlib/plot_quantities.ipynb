{
 "cells": [
  {
   "cell_type": "code",
   "execution_count": 1,
   "metadata": {},
   "outputs": [
    {
     "data": {
      "image/png": "[encoded data removed]",
      "text/plain": [
       "<Figure size 432x288 with 1 Axes>"
      ]
     },
     "metadata": {
      "needs_background": "light"
     },
     "output_type": "display_data"
    }
   ],
   "source": [
    "'''\n",
    "    Created on Dec 5, 2021\n",
    "\n",
    "    @author:srividya\n",
    "    @Date:  5/12/2021\n",
    "    @Title: Plot quantities\n",
    "\n",
    "    '''\n",
    "\n",
    "import numpy as np\n",
    "import pylab as pl\n",
    "x1 = [2, 3, 5, 6, 8]\n",
    "y1 = [1, 5, 10, 18, 20]\n",
    "x2 = [3, 4, 6, 7, 9]\n",
    "y2 = [2, 6, 11, 20, 22]\n",
    "# set new axes limits\n",
    "pl.axis([0, 10, 0, 30]) \n",
    "# use pylab to plot x and y as red circles\n",
    "pl.plot(x1, y1,'b*', x2, y2, 'ro')\n",
    "# show the plot on the screen\n",
    "pl.show()\n"
   ]
  }
 ],
 "metadata": {
  "interpreter": {
   "hash": "f7253e85e9f93d0736148ebce53ed0a9fb224f34b7e8c55fb399d4b8ec3efaae"
  },
  "kernelspec": {
   "display_name": "Python 3.10.0 64-bit",
   "language": "python",
   "name": "python3"
  },
  "language_info": {
   "codemirror_mode": {
    "name": "ipython",
    "version": 3
   },
   "file_extension": ".py",
   "mimetype": "text/x-python",
   "name": "python",
   "nbconvert_exporter": "python",
   "pygments_lexer": "ipython3",
   "version": "3.10.0"
  },
  "orig_nbformat": 4
 },
 "nbformat": 4,
 "nbformat_minor": 2
}
