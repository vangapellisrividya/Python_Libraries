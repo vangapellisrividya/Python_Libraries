{
 "cells": [
  {
   "cell_type": "code",
   "execution_count": 3,
   "metadata": {},
   "outputs": [
    {
     "name": "stdout",
     "output_type": "stream",
     "text": [
      "Original Array :\n",
      "0    1\n",
      "1    2\n",
      "2    3\n",
      "dtype: int32\n",
      "Element-wise power array\n",
      "0     1\n",
      "1     4\n",
      "2    27\n",
      "dtype: int32\n"
     ]
    }
   ],
   "source": [
    "'''\n",
    "    Created on Dec 6, 2021\n",
    "\n",
    "    @author:srividya\n",
    "    @Date:  6/12/2021\n",
    "    @Title: power of arrays\n",
    "\n",
    "    '''\n",
    "\n",
    "import numpy as np\n",
    "import pandas as pd \n",
    "  \n",
    "# create an array\n",
    "sample_array = np.array([1, 2, 3])  \n",
    "sr = pd.Series(sample_array) \n",
    "print (\"Original Array :\")\n",
    "print (sr)\n",
    "power_array = sr.pow(sr)\n",
    "print (\"Element-wise power array\")\n",
    "print (power_array)"
   ]
  }
 ],
 "metadata": {
  "interpreter": {
   "hash": "f7253e85e9f93d0736148ebce53ed0a9fb224f34b7e8c55fb399d4b8ec3efaae"
  },
  "kernelspec": {
   "display_name": "Python 3.10.0 64-bit",
   "language": "python",
   "name": "python3"
  },
  "language_info": {
   "codemirror_mode": {
    "name": "ipython",
    "version": 3
   },
   "file_extension": ".py",
   "mimetype": "text/x-python",
   "name": "python",
   "nbconvert_exporter": "python",
   "pygments_lexer": "ipython3",
   "version": "3.10.0"
  },
  "orig_nbformat": 4
 },
 "nbformat": 4,
 "nbformat_minor": 2
}
