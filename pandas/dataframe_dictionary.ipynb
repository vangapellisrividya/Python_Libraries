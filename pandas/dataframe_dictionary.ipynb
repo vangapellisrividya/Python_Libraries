{
 "cells": [
  {
   "cell_type": "code",
   "execution_count": 1,
   "metadata": {},
   "outputs": [
    {
     "name": "stdout",
     "output_type": "stream",
     "text": [
      "        Name  Age University\n",
      "0      Ankit   23        BHU\n",
      "1  Aishwarya   21        JNU\n",
      "2    Shaurya   22         DU\n",
      "3   Shivangi   21        BHU\n"
     ]
    }
   ],
   "source": [
    "'''\n",
    "  Created on Dec 6, 2021\n",
    "\n",
    "    @author:srividya\n",
    "    @Date:  6/12/2021\n",
    "    @Title: Dataframe\n",
    "\n",
    "    '''\n",
    "\n",
    "import pandas as pd\n",
    "  \n",
    "details = {\n",
    "    'Name' : ['Ankit', 'Aishwarya', 'Shaurya', 'Shivangi'],\n",
    "    'Age' : [23, 21, 22, 21],\n",
    "    'University' : ['BHU', 'JNU', 'DU', 'BHU'],\n",
    "}\n",
    "\n",
    "df = pd.DataFrame(details)\n",
    "print(df)"
   ]
  }
 ],
 "metadata": {
  "interpreter": {
   "hash": "f7253e85e9f93d0736148ebce53ed0a9fb224f34b7e8c55fb399d4b8ec3efaae"
  },
  "kernelspec": {
   "display_name": "Python 3.10.0 64-bit",
   "language": "python",
   "name": "python3"
  },
  "language_info": {
   "codemirror_mode": {
    "name": "ipython",
    "version": 3
   },
   "file_extension": ".py",
   "mimetype": "text/x-python",
   "name": "python",
   "nbconvert_exporter": "python",
   "pygments_lexer": "ipython3",
   "version": "3.10.0"
  },
  "orig_nbformat": 4
 },
 "nbformat": 4,
 "nbformat_minor": 2
}
